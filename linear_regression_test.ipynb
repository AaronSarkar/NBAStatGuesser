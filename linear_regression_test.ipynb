{
 "cells": [
  {
   "cell_type": "code",
   "execution_count": 1,
   "metadata": {},
   "outputs": [],
   "source": [
    "from linear_regression_class import linear_regression as lin\n",
    "from sklearn.model_selection import train_test_split\n",
    "import numpy as np\n",
    "import pandas as pd\n"
   ]
  },
  {
   "cell_type": "code",
   "execution_count": 2,
   "metadata": {},
   "outputs": [
    {
     "name": "stderr",
     "output_type": "stream",
     "text": [
      "C:\\Users\\rakra\\AppData\\Local\\Temp\\ipykernel_27632\\884833986.py:19: UserWarning: Pandas doesn't allow columns to be created via a new attribute name - see https://pandas.pydata.org/pandas-docs/stable/indexing.html#attribute-access\n",
      "  df.drop_columns = ['GP_2-3', 'MIN_2-3', 'FGM_2-3', 'FGA_2-3', 'FG%_2-3', '3PM_2-3', '3PA_2-3', '3P%_2-3', 'FTM_2-3', 'FTA_2-3', 'FT%_2-3', 'OREB_2-3', 'DREB_2-3', 'REB_2-3', 'AST_2-3', 'STL_2-3', 'BLK_2-3', 'TOV_2-3', 'EFF_2-3',\n"
     ]
    }
   ],
   "source": [
    "df = pd.read_csv('NBA_stats_3_years.csv')\n",
    "outliers = ((df['FG%_2-3'] > 90) |\n",
    "            (df['FG%_2-3'] == 0) |\n",
    "            (df['3P%_2-3'] > 90) |\n",
    "            (df['3P%_2-3'] == 0) |\n",
    "            (df['FT%_2-3'] == 0) |\n",
    "            (df['FG%_1-2'] > 90) |\n",
    "            (df['FG%_1-2'] == 0) |\n",
    "            (df['3P%_1-2'] > 90) |\n",
    "            (df['3P%_1-2'] == 0) |\n",
    "            (df['FT%_1-2'] == 0) |\n",
    "            (df['FG%_0-1'] > 90) |\n",
    "            (df['FG%_0-1'] == 0) |\n",
    "            (df['3P%_0-1'] > 90) |\n",
    "            (df['3P%_0-1'] == 0) |\n",
    "            (df['FT%_0-1'] == 0))\n",
    "\n",
    "df = df[~outliers]\n",
    "df.drop_columns = ['GP_2-3', 'MIN_2-3', 'FGM_2-3', 'FGA_2-3', 'FG%_2-3', '3PM_2-3', '3PA_2-3', '3P%_2-3', 'FTM_2-3', 'FTA_2-3', 'FT%_2-3', 'OREB_2-3', 'DREB_2-3', 'REB_2-3', 'AST_2-3', 'STL_2-3', 'BLK_2-3', 'TOV_2-3', 'EFF_2-3',\n",
    "'GP_1-2','OREB_1-2', 'DREB_1-2', 'FGM_1-2', 'FGA_1-2', '3P%_1-2', '3PA_1-2', 'FT%_1-2',\n",
    "'GP_0-1','OREB_0-1', 'DREB_0-1', 'FGM_0-1', 'FGA_0-1', '3P%_0-1', '3PA_0-1', 'FT%_0-1']"
   ]
  },
  {
   "cell_type": "code",
   "execution_count": 15,
   "metadata": {},
   "outputs": [
    {
     "name": "stdout",
     "output_type": "stream",
     "text": [
      "             0\n",
      "419  18.408496\n",
      "970   4.008176\n",
      "390  26.943040\n",
      "392  15.239317\n",
      "400  14.785702\n",
      "..         ...\n",
      "508   5.748679\n",
      "653  27.022705\n",
      "565   4.105987\n",
      "992   8.440989\n",
      "72   13.231936\n",
      "\n",
      "[138 rows x 1 columns]\n",
      "419    18.9\n",
      "970     4.4\n",
      "390    27.4\n",
      "392    15.0\n",
      "400    15.1\n",
      "       ... \n",
      "508     5.8\n",
      "653    26.9\n",
      "565     4.2\n",
      "992     8.7\n",
      "72     13.5\n",
      "Name: PTS_2-3, Length: 138, dtype: float64\n",
      "0.9960749654726704\n"
     ]
    }
   ],
   "source": [
    "my_model = lin()\n",
    "X_train, X_test, Y_train, Y_test = train_test_split(df.drop(columns = 'PTS_2-3'), df['PTS_2-3'], test_size=0.15, random_state=42)\n",
    "my_model.batch_backpropagation(X_train, Y_train, 1000000, 10**(-6))\n",
    "\n",
    "y_pred = np.matmul(X_test, my_model.weights)\n",
    "[x+my_model.bias for x in y_pred]\n",
    "\n",
    "print(y_pred)\n",
    "print(Y_test)\n",
    "\n",
    "print(my_model.r2_score(X_train, Y_train))"
   ]
  }
 ],
 "metadata": {
  "kernelspec": {
   "display_name": "Python 3",
   "language": "python",
   "name": "python3"
  },
  "language_info": {
   "codemirror_mode": {
    "name": "ipython",
    "version": 3
   },
   "file_extension": ".py",
   "mimetype": "text/x-python",
   "name": "python",
   "nbconvert_exporter": "python",
   "pygments_lexer": "ipython3",
   "version": "3.11.5"
  }
 },
 "nbformat": 4,
 "nbformat_minor": 2
}
