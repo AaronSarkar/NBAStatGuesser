{
 "cells": [
  {
   "cell_type": "code",
   "execution_count": 52,
   "metadata": {},
   "outputs": [],
   "source": [
    "import csv\n",
    "from selenium import webdriver\n",
    "from selenium.webdriver.common.by import By\n",
    "import pandas as pd\n",
    "import re\n",
    "import numpy as np"
   ]
  },
  {
   "cell_type": "code",
   "execution_count": 53,
   "metadata": {},
   "outputs": [],
   "source": [
    "s = webdriver.ChromeService('C:/Users/rakra/chromedriver-win64/chromedriver.exe')\n",
    "driver = webdriver.Chrome(service = s)\n",
    "\n",
    "driver.get('https://www.nba.com/stats/leaders?Season=2024-25')\n",
    "driver.implicitly_wait(10)"
   ]
  },
  {
   "cell_type": "code",
   "execution_count": 54,
   "metadata": {},
   "outputs": [
    {
     "name": "stdout",
     "output_type": "stream",
     "text": [
      "289 23\n"
     ]
    },
    {
     "data": {
      "text/plain": [
       "'Dict = {\\n    \"#\": 1,\\n    \"PLAYER\": Player,\\n    \"TEAM\": Team,\\n    \"GP\": Gp,\\n    \"MIN\": Min,\\n    \"PTS\": Pts,\\n    \"FGM\": Fgm,\\n    \"FGA\": Fga,\\n    \"FG%\": Fgp,\\n    \"3PM\": Tpm,\\n    \"3PA\": Tpa,\\n    \"3P%\": Tpp,\\n    \"FTM\": Ftm,\\n    \"FTA\": Fta,\\n    \"FT%\": Ftp,\\n    \"OREB\": Oreb,\\n    \"DREB\": Dreb,\\n    \"REB\": Reb,\\n    \"AST\": Ast,\\n    \"STL\": Stl,\\n    \"BLK\": Blk,\\n    \"TO\": Tov,\\n    \"EFF\": Eff\\n}'"
      ]
     },
     "execution_count": 54,
     "metadata": {},
     "output_type": "execute_result"
    }
   ],
   "source": [
    "'''Player = []\n",
    "Team = []\n",
    "Gp = []\n",
    "Min = []\n",
    "Pts = []\n",
    "Fgm = []\n",
    "Fga = []\n",
    "Fgp = []\n",
    "Tpm = []\n",
    "Tpa = []\n",
    "Tpp = []\n",
    "Ftm = []\n",
    "Fta = []\n",
    "Ftp = []\n",
    "Oreb = []\n",
    "Dreb = []\n",
    "Reb = []\n",
    "Ast = []\n",
    "Stl = []\n",
    "Blk = []\n",
    "Tov = []\n",
    "Eff = []'''\n",
    "\n",
    "Rows = driver.find_element(By.XPATH, \"(//div[@class='Pagination_content__f2at7 Crom_cromSetting__Tqtiq']/div)[1]\").text\n",
    "Rows = int(re.findall(r'\\d+', Rows)[0])\n",
    "Columns = int(len(driver.find_elements(By.XPATH, \"((//tbody/tr)[1]/td)\")))\n",
    "print(Rows, Columns)\n",
    "\n",
    "Statistics = np.zeros((Rows, Columns))\n",
    "\n",
    "'''Dict = {\n",
    "    \"#\": 1,\n",
    "    \"PLAYER\": Player,\n",
    "    \"TEAM\": Team,\n",
    "    \"GP\": Gp,\n",
    "    \"MIN\": Min,\n",
    "    \"PTS\": Pts,\n",
    "    \"FGM\": Fgm,\n",
    "    \"FGA\": Fga,\n",
    "    \"FG%\": Fgp,\n",
    "    \"3PM\": Tpm,\n",
    "    \"3PA\": Tpa,\n",
    "    \"3P%\": Tpp,\n",
    "    \"FTM\": Ftm,\n",
    "    \"FTA\": Fta,\n",
    "    \"FT%\": Ftp,\n",
    "    \"OREB\": Oreb,\n",
    "    \"DREB\": Dreb,\n",
    "    \"REB\": Reb,\n",
    "    \"AST\": Ast,\n",
    "    \"STL\": Stl,\n",
    "    \"BLK\": Blk,\n",
    "    \"TO\": Tov,\n",
    "    \"EFF\": Eff\n",
    "}'''"
   ]
  },
  {
   "cell_type": "code",
   "execution_count": 66,
   "metadata": {},
   "outputs": [
    {
     "name": "stdout",
     "output_type": "stream",
     "text": [
      "['39', 'Jaren Jackson Jr.', 'MEM', '5', '26.4', '20.4', '7.8', '13.2', '59.1', '1.2', '3.2', '37.5', '3.6', '5.6', '64.3', '1.0', '4.0', '5.0', '0.8', '1.6', '1.0', '1.6', '19.8']\n"
     ]
    }
   ],
   "source": [
    "#((//tbody/tr)[1]/td)[3] (//div[@class='Pagination_content__f2at7 Crom_cromSetting__Tqtiq']/div)[4]\n",
    "Stats = []\n",
    "Pages = driver.find_element(By.XPATH, \"(//div[@class='Pagination_content__f2at7 Crom_cromSetting__Tqtiq']/div)[4]\").text\n",
    "Pages = int(re.findall(r'\\d+', Pages)[0])\n",
    "Data = driver.find_elements(By.XPATH, \"//tbody/tr\")\n",
    "Data_text = [element.text for element in Data]\n",
    "\n",
    "Data_text = [text.split() for text in Data_text]\n",
    "for i in range(len(Data_text)):\n",
    "    Names = len(Data_text[i]) - Columns\n",
    "    for j in range(Names):\n",
    "        Data_text[i][1] = Data_text[i][1] + \" \" + Data_text[i][2]\n",
    "        Data_text[i].pop(2)\n",
    "\n",
    "    \n",
    "print(Data_text[38])"
   ]
  }
 ],
 "metadata": {
  "kernelspec": {
   "display_name": "Python 3",
   "language": "python",
   "name": "python3"
  },
  "language_info": {
   "codemirror_mode": {
    "name": "ipython",
    "version": 3
   },
   "file_extension": ".py",
   "mimetype": "text/x-python",
   "name": "python",
   "nbconvert_exporter": "python",
   "pygments_lexer": "ipython3",
   "version": "3.11.5"
  }
 },
 "nbformat": 4,
 "nbformat_minor": 2
}
